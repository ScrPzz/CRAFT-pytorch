{
 "cells": [
  {
   "cell_type": "code",
   "execution_count": 1,
   "id": "6ddd55dc-4160-4527-8fd6-ba91fcad9f05",
   "metadata": {},
   "outputs": [],
   "source": [
    "import pandas as pd\n",
    "\n",
    "i=pd.read_csv('/home/atogni/_projects/IG_scraper/output/exxonmobil/full_clean.csv')\n",
    "\n",
    "i.shortcode=i.shortcode.apply(lambda x: 'https://www.instagram.com/p/'+x )\n",
    "\n",
    "i.shortcode.to_csv('/home/atogni/_projects/IG_scraper/output/exxonmobil/post_codes.txt',index=False, header=False)"
   ]
  },
  {
   "cell_type": "code",
   "execution_count": null,
   "id": "736cd708-6eb9-4d51-af15-3cc36a2e308f",
   "metadata": {},
   "outputs": [],
   "source": []
  }
 ],
 "metadata": {
  "kernelspec": {
   "display_name": "Python 3 (ipykernel)",
   "language": "python",
   "name": "python3"
  },
  "language_info": {
   "codemirror_mode": {
    "name": "ipython",
    "version": 3
   },
   "file_extension": ".py",
   "mimetype": "text/x-python",
   "name": "python",
   "nbconvert_exporter": "python",
   "pygments_lexer": "ipython3",
   "version": "3.8.13"
  }
 },
 "nbformat": 4,
 "nbformat_minor": 5
}
