{
 "cells": [
  {
   "cell_type": "code",
   "execution_count": 1,
   "id": "eeae5075-f73a-45ee-b358-f111f6789b24",
   "metadata": {},
   "outputs": [],
   "source": [
    "# https://github.com/clovaai/deep-text-recognition-benchmark#download-lmdb-dataset-for-traininig-and-evaluation-from-here\n",
    "# https://github.com/clovaai/CRAFT-pytorch"
   ]
  },
  {
   "cell_type": "code",
   "execution_count": 2,
   "id": "a0add472-ddfa-4e33-8168-e03ed165ea06",
   "metadata": {},
   "outputs": [],
   "source": [
    "import json\n",
    "import os\n",
    "import numpy as np\n",
    "import urllib.parse\n",
    "from PIL import Image\n",
    "import cv2\n",
    "import types\n",
    "from collections import namedtuple"
   ]
  },
  {
   "cell_type": "code",
   "execution_count": 3,
   "id": "e37e66b6-98f7-4bc4-8e06-39df295531ab",
   "metadata": {},
   "outputs": [],
   "source": [
    "b_path='/home/atogni/Desktop/ocr_gradient/craft_model/result/'\n",
    "bboxes_path=urllib.parse.urljoin(b_path,'bboxes_infos.json')"
   ]
  },
  {
   "cell_type": "code",
   "execution_count": 4,
   "id": "e3f32be3-6c41-4d93-bb08-d8577ada65ff",
   "metadata": {},
   "outputs": [],
   "source": [
    "with open(bboxes_path) as f:\n",
    "    boxes=json.load(f)"
   ]
  },
  {
   "cell_type": "code",
   "execution_count": 5,
   "id": "eb742540-9bb3-446b-a5d5-6fc931cf0a01",
   "metadata": {},
   "outputs": [],
   "source": [
    "im = Image.open(urllib.parse.urljoin(b_path, 'res_CH_JQugBNjc_2.jpg'))\n",
    "width, height = im.size\n",
    "im.show()"
   ]
  },
  {
   "cell_type": "code",
   "execution_count": 6,
   "id": "f7348141-eb26-4f67-a7f9-eabdbb26817b",
   "metadata": {},
   "outputs": [],
   "source": [
    "def extract_4bboxes_area_pxl(list_bboxes):\n",
    "    \"Extract area of a list of boxes in 4 vertex format\"\n",
    "    a=0.0\n",
    "    for box in list_bboxes:\n",
    "        dx=round(max(box[0][0], box[1][0]) - min(box[0][0], box[1][0]), 2)\n",
    "        dy=round(max(box[0][1], box[3][1]) - min(box[0][1], box[3][1]), 2)\n",
    "        a+=dx*dy\n",
    "    return round(a, 0)\n",
    "\n",
    "def show_cv_to_pil(cv_img):\n",
    "    \"Auxiliary function to fix opencv.show() not working on linux\"\n",
    "    cv_img = cv2.cvtColor(cv_img, cv2.COLOR_BGR2RGB)\n",
    "    im_pil = Image.fromarray(cv_img)\n",
    "    im_pil.show()\n",
    "    \n",
    "def box_to_tl_br(box_vertices):\n",
    "    \"\"\"Transform 4-vertex box to named tuple:\n",
    "    Box = namedtuple(\"Box\", \"top_left bottom_right dx dy\")\"\"\"\n",
    "    \n",
    "    tl=[min([v[0] for v in box_vertices]), min([v[1] for v in box_vertices])]\n",
    "    br=[max([v[0] for v in box_vertices]), max([v[1] for v in box_vertices])]\n",
    "    dx=round(max(box_vertices[0][0], box_vertices[1][0]) - min(box_vertices[0][0], box_vertices[1][0]), 2)\n",
    "    dy=round(max(box_vertices[0][1], box_vertices[3][1]) - min(box_vertices[0][1], box_vertices[3][1]), 2)\n",
    "    \n",
    "    return Box(tl, br, dx, dy)\n",
    "\n",
    "\n",
    "def tl_br_list_to_centers(tl_dr_Idx_Box, round_to=int):\n",
    "    \"Extract boxes centers from list of Idx_Box named tuple\"\n",
    "    centers=[]\n",
    "    for box in tl_dr_Idx_Box:\n",
    "        if round_to >0:\n",
    "            centers.append((box.id, [round(box.top_left[0] + 0.5*(box.dx), round_to), round(box.top_left[1] + 0.5*(box.dy) , round_to) ]))\n",
    "        else:\n",
    "            centers.append((box.id, [int(box.top_left[0] + 0.5*(box.dx)), int(box.top_left[1] + 0.5*(box.dy)) ]))\n",
    "    return centers\n",
    "\n",
    "\n",
    "def create_big_box_from_ids(ids, boxes_data):\n",
    "    \"Merge boxes from id list into a single box\"\n",
    "    to_bound=[]\n",
    "    for box in boxes_data:\n",
    "        if getattr(box, 'id') in ids: to_bound.append(box) \n",
    "    to_bound.sort(key=lambda a: a.top_left[0])\n",
    "    TLx=to_bound[0].top_left[0]\n",
    "    to_bound.sort(key=lambda a: a.top_left[1])\n",
    "    TLy=to_bound[0].top_left[1]\n",
    "\n",
    "    to_bound.sort(key=lambda a: a.bottom_right[0])\n",
    "    BRx=to_bound[-1].bottom_right[0]\n",
    "    to_bound.sort(key=lambda a: a.bottom_right[1])\n",
    "    BRy=to_bound[-1].bottom_right[1]\n",
    "    \n",
    "    return [(int(TLx), int(TLy)), (int(BRx), int(BRy))]\n",
    "\n",
    "def area_of_tl_br_box_list(tl_br_tup_lst):\n",
    "    \"Calculate area of a tl_dr box list\"\n",
    "    a=0.0\n",
    "    for tl_br_tup in tl_br_tup_lst:\n",
    "        #print(tl_br_tup)\n",
    "        dx=round(max(tl_br_tup[0][0], tl_br_tup[1][0]) - min(tl_br_tup[0][0], tl_br_tup[1][0]), 0)\n",
    "        dy=round(max(tl_br_tup[0][1], tl_br_tup[1][1]) - min(tl_br_tup[0][1], tl_br_tup[1][1]), 0)\n",
    "        a+= int(dx*dy)\n",
    "    return a"
   ]
  },
  {
   "cell_type": "code",
   "execution_count": 7,
   "id": "ef53b710-a6ac-481e-8381-9d5fc69544cb",
   "metadata": {},
   "outputs": [
    {
     "data": {
      "text/plain": [
       "'Pct area covered by text boxes: 15.82%'"
      ]
     },
     "execution_count": 7,
     "metadata": {},
     "output_type": "execute_result"
    }
   ],
   "source": [
    "f\"Pct area covered by text boxes: {round((extract_4bboxes_area_pxl(boxes['CH_JQugBNjc_2.jpg']) / (width*height))*100, 2)}%\"\n"
   ]
  },
  {
   "cell_type": "code",
   "execution_count": 8,
   "id": "8be6ec3d-5e98-4a7e-afeb-08ae414941b5",
   "metadata": {},
   "outputs": [],
   "source": [
    "Box = namedtuple(\"Box\", \"top_left bottom_right dx dy\")\n",
    "Idx_Box=namedtuple(\"Idx_Box\", \"id top_left bottom_right dx dy\")"
   ]
  },
  {
   "cell_type": "code",
   "execution_count": 9,
   "id": "a7d877d9-f9f2-4fa3-b7b2-bfa6c48b16ae",
   "metadata": {},
   "outputs": [],
   "source": [
    "tldr_boxes={}\n",
    "n=0\n",
    "for k, v in boxes.items():\n",
    "    tldr_boxes[k]=[box_to_tl_br(box_vertices=box) for box in v]\n",
    "    \n",
    "for k, v in tldr_boxes.items():\n",
    "    for i in range(len(v)):\n",
    "        v[i]=Idx_Box(i, *v[i])"
   ]
  },
  {
   "cell_type": "code",
   "execution_count": 10,
   "id": "e1cd38f9-585a-427a-a0ae-fb4657566179",
   "metadata": {},
   "outputs": [],
   "source": [
    "b_list=tldr_boxes['CH_JQugBNjc_2.jpg']"
   ]
  },
  {
   "cell_type": "code",
   "execution_count": 11,
   "id": "d26accfc-70ae-4ec5-9d4e-2586edeafd43",
   "metadata": {},
   "outputs": [
    {
     "data": {
      "text/plain": [
       "[Idx_Box(id=0, top_left=[271.4495544433594, 61.836456298828125], bottom_right=[543.1077270507812, 100.0404281616211], dx=270.89, dy=31.68),\n",
       " Idx_Box(id=1, top_left=[272.0000305175781, 98.66665649414062], bottom_right=[572.0, 130.66665649414062], dx=300.0, dy=32.0),\n",
       " Idx_Box(id=2, top_left=[41.33333206176758, 230.6666717529297], bottom_right=[250.6666717529297, 258.6666564941406], dx=209.33, dy=28.0),\n",
       " Idx_Box(id=3, top_left=[40.0, 268.0], bottom_right=[166.6666717529297, 296.0], dx=126.67, dy=28.0),\n",
       " Idx_Box(id=4, top_left=[37.33333206176758, 304.0], bottom_right=[202.6666717529297, 336.0], dx=165.33, dy=32.0),\n",
       " Idx_Box(id=5, top_left=[37.26239776611328, 331.88360595703125], bottom_right=[181.06959533691406, 371.5979919433594], dx=141.64, dy=29.22),\n",
       " Idx_Box(id=6, top_left=[347.3746643066406, 402.5814208984375], bottom_right=[563.505126953125, 440.4438781738281], dx=215.1, dy=30.6),\n",
       " Idx_Box(id=7, top_left=[346.6666564941406, 441.3333435058594], bottom_right=[508.0, 469.3333435058594], dx=161.33, dy=28.0),\n",
       " Idx_Box(id=8, top_left=[348.0, 474.6666564941406], bottom_right=[536.0, 502.6666564941406], dx=188.0, dy=28.0),\n",
       " Idx_Box(id=9, top_left=[348.0, 512.0], bottom_right=[482.6666564941406, 540.0], dx=134.67, dy=28.0)]"
      ]
     },
     "execution_count": 11,
     "metadata": {},
     "output_type": "execute_result"
    }
   ],
   "source": [
    "b_list"
   ]
  },
  {
   "cell_type": "code",
   "execution_count": 12,
   "id": "f04e6354-7ee0-4910-ad16-849077e96785",
   "metadata": {
    "tags": []
   },
   "outputs": [],
   "source": [
    "def group_closest_boxes(b_list, y_toll):\n",
    "    if len(b_list) >1:\n",
    "        ids_grouped=[]\n",
    "        for i in range(0, len(b_list)-1):\n",
    "            if abs(b_list[i].top_left[1] - b_list[i+1].top_left[1]) < y_toll:\n",
    "                ids_grouped.append(b_list[i].id)\n",
    "            else: \n",
    "                ids_grouped.append(b_list[i].id)\n",
    "                break\n",
    "\n",
    "        if len(ids_grouped) < len(b_list):\n",
    "            try:\n",
    "                remaining=b_list[max(ids_grouped)+1:]\n",
    "            except:\n",
    "                remaining= []\n",
    "        return ids_grouped, remaining\n",
    "    else:\n",
    "        ids_grouped=b_list[0].id\n",
    "        return ids_grouped, None\n",
    "        \n",
    "\n",
    "def iterate_search(bboxes, groups):\n",
    "    g, r = group_closest_boxes(bboxes, 50)\n",
    "    groups.append(g)\n",
    "    if len(r)>1:\n",
    "        return True\n",
    "    else:\n",
    "        return False\n",
    "    "
   ]
  },
  {
   "cell_type": "code",
   "execution_count": 13,
   "id": "ce0cea29-5bde-42e0-b3cd-cfef8fc66d77",
   "metadata": {},
   "outputs": [],
   "source": [
    "g, r = group_closest_boxes(b_list, 50)\n"
   ]
  },
  {
   "cell_type": "code",
   "execution_count": 14,
   "id": "d74eec1b-7110-48cd-9c03-d2e8befce37b",
   "metadata": {},
   "outputs": [],
   "source": [
    "g, r = group_closest_boxes(r, 50)"
   ]
  },
  {
   "cell_type": "code",
   "execution_count": 15,
   "id": "4bcfd55d-5867-40e8-a467-05725eb1d456",
   "metadata": {},
   "outputs": [
    {
     "data": {
      "text/plain": [
       "[Idx_Box(id=8, top_left=[348.0, 474.6666564941406], bottom_right=[536.0, 502.6666564941406], dx=188.0, dy=28.0),\n",
       " Idx_Box(id=9, top_left=[348.0, 512.0], bottom_right=[482.6666564941406, 540.0], dx=134.67, dy=28.0)]"
      ]
     },
     "execution_count": 15,
     "metadata": {},
     "output_type": "execute_result"
    }
   ],
   "source": [
    "r"
   ]
  },
  {
   "cell_type": "code",
   "execution_count": 16,
   "id": "252434e9-9ea4-4006-aeb0-af46e536b826",
   "metadata": {},
   "outputs": [
    {
     "data": {
      "text/plain": [
       "([8], [])"
      ]
     },
     "execution_count": 16,
     "metadata": {},
     "output_type": "execute_result"
    }
   ],
   "source": [
    "group_closest_boxes(r, 50)"
   ]
  },
  {
   "cell_type": "code",
   "execution_count": null,
   "id": "51712709-9a37-43cf-be16-1da7ac71caef",
   "metadata": {},
   "outputs": [],
   "source": []
  },
  {
   "cell_type": "code",
   "execution_count": 17,
   "id": "bfb7f027-8234-4b63-bb58-eda0d693429e",
   "metadata": {},
   "outputs": [
    {
     "ename": "KeyboardInterrupt",
     "evalue": "",
     "output_type": "error",
     "traceback": [
      "\u001b[0;31m---------------------------------------------------------------------------\u001b[0m",
      "\u001b[0;31mKeyboardInterrupt\u001b[0m                         Traceback (most recent call last)",
      "Input \u001b[0;32mIn [17]\u001b[0m, in \u001b[0;36m<cell line: 13>\u001b[0;34m()\u001b[0m\n\u001b[1;32m     12\u001b[0m big_boxes\u001b[38;5;241m=\u001b[39m[]            \n\u001b[1;32m     13\u001b[0m \u001b[38;5;28;01mfor\u001b[39;00m g \u001b[38;5;129;01min\u001b[39;00m groups: \n\u001b[0;32m---> 14\u001b[0m     big_boxes\u001b[38;5;241m.\u001b[39mappend(\u001b[43mcreate_big_box_from_ids\u001b[49m\u001b[43m(\u001b[49m\u001b[43mg\u001b[49m\u001b[43m,\u001b[49m\u001b[43m \u001b[49m\u001b[43mtldr_boxes\u001b[49m\u001b[43m[\u001b[49m\u001b[38;5;124;43m'\u001b[39;49m\u001b[38;5;124;43mCH_JQugBNjc_2.jpg\u001b[39;49m\u001b[38;5;124;43m'\u001b[39;49m\u001b[43m]\u001b[49m\u001b[43m)\u001b[49m)\n",
      "Input \u001b[0;32mIn [6]\u001b[0m, in \u001b[0;36mcreate_big_box_from_ids\u001b[0;34m(ids, boxes_data)\u001b[0m\n\u001b[1;32m     41\u001b[0m to_bound\u001b[38;5;241m=\u001b[39m[]\n\u001b[1;32m     42\u001b[0m \u001b[38;5;28;01mfor\u001b[39;00m box \u001b[38;5;129;01min\u001b[39;00m boxes_data:\n\u001b[0;32m---> 43\u001b[0m     \u001b[38;5;28;01mif\u001b[39;00m \u001b[38;5;28;43mgetattr\u001b[39;49m\u001b[43m(\u001b[49m\u001b[43mbox\u001b[49m\u001b[43m,\u001b[49m\u001b[43m \u001b[49m\u001b[38;5;124;43m'\u001b[39;49m\u001b[38;5;124;43mid\u001b[39;49m\u001b[38;5;124;43m'\u001b[39;49m\u001b[43m)\u001b[49m\u001b[43m \u001b[49m\u001b[38;5;129;43;01min\u001b[39;49;00m\u001b[43m \u001b[49m\u001b[43mids\u001b[49m: to_bound\u001b[38;5;241m.\u001b[39mappend(box) \n\u001b[1;32m     44\u001b[0m to_bound\u001b[38;5;241m.\u001b[39msort(key\u001b[38;5;241m=\u001b[39m\u001b[38;5;28;01mlambda\u001b[39;00m a: a\u001b[38;5;241m.\u001b[39mtop_left[\u001b[38;5;241m0\u001b[39m])\n\u001b[1;32m     45\u001b[0m TLx\u001b[38;5;241m=\u001b[39mto_bound[\u001b[38;5;241m0\u001b[39m]\u001b[38;5;241m.\u001b[39mtop_left[\u001b[38;5;241m0\u001b[39m]\n",
      "\u001b[0;31mKeyboardInterrupt\u001b[0m: "
     ]
    }
   ],
   "source": [
    "check=True\n",
    "groups=[]\n",
    "max_groups=10\n",
    "while check:\n",
    "        g, r = group_closest_boxes(b_list, 50)\n",
    "        groups.append(g)\n",
    "        if len(r)>1:\n",
    "            check = iterate_search(bboxes=r, groups=groups)\n",
    "        else:\n",
    "            check=False\n",
    "\n",
    "big_boxes=[]            \n",
    "for g in groups: \n",
    "    big_boxes.append(create_big_box_from_ids(g, tldr_boxes['CH_JQugBNjc_2.jpg']))\n"
   ]
  },
  {
   "cell_type": "code",
   "execution_count": null,
   "id": "4a59e394-eb0e-43b4-b1cc-8bfa2add26bf",
   "metadata": {},
   "outputs": [],
   "source": [
    "big_boxes"
   ]
  },
  {
   "cell_type": "code",
   "execution_count": null,
   "id": "03b9b674-1973-426c-909b-902dfc4894cd",
   "metadata": {},
   "outputs": [],
   "source": [
    "tldr_boxes['CH_JQugBNjc_2.jpg']\n"
   ]
  },
  {
   "cell_type": "markdown",
   "id": "7e715ce1-e7be-46ca-8882-3fbeb7616285",
   "metadata": {},
   "source": [
    "### Solution: MeanShift clustering"
   ]
  },
  {
   "cell_type": "code",
   "execution_count": 11,
   "id": "50e49b4e-1480-42f7-9cae-8834d965e2f1",
   "metadata": {},
   "outputs": [],
   "source": [
    "clustered_box=namedtuple(\"clustered_box\", \"id top_left bottom_right dx dy cluster_id\") "
   ]
  },
  {
   "cell_type": "code",
   "execution_count": 12,
   "id": "91db6d47-f007-45f2-895f-da7c5e826af8",
   "metadata": {},
   "outputs": [],
   "source": [
    "from sklearn.cluster import MeanShift\n",
    "from collections import Counter, defaultdict"
   ]
  },
  {
   "cell_type": "code",
   "execution_count": 13,
   "id": "fde1311f-de21-4c75-8fab-d4cc996685be",
   "metadata": {},
   "outputs": [],
   "source": [
    "centers=tl_br_list_to_centers(b_list, round_to=-1)"
   ]
  },
  {
   "cell_type": "code",
   "execution_count": 14,
   "id": "c5352efe-152d-4c86-bf0c-9fe1aefefc64",
   "metadata": {},
   "outputs": [],
   "source": [
    "X = np.array([c[1] for c in centers])\n",
    "clst = MeanShift(bandwidth=None).fit(X)"
   ]
  },
  {
   "cell_type": "code",
   "execution_count": 15,
   "id": "97ceeea1-3614-491a-87ec-61075a433992",
   "metadata": {},
   "outputs": [],
   "source": [
    "cluster_id_to_box_id=list(zip(clst.labels_, [c[0] for c in centers] ))\n",
    "clustered_boxes = defaultdict(list)\n",
    "for x in cluster_id_to_box_id:\n",
    "    clustered_boxes[x[0]].append(x[1])\n",
    "clustered_boxes_ids=dict(clustered_boxes)"
   ]
  },
  {
   "cell_type": "code",
   "execution_count": 16,
   "id": "58993c9b-ffa7-49d6-b230-602349d7751e",
   "metadata": {},
   "outputs": [],
   "source": [
    "text_boxes=[]\n",
    "for k, v in clustered_boxes_ids.items():\n",
    "    text_boxes.append(create_big_box_from_ids(v, tldr_boxes['CH_JQugBNjc_2.jpg']))"
   ]
  },
  {
   "cell_type": "code",
   "execution_count": 17,
   "id": "af653425-ec82-403c-8762-9497bd98675f",
   "metadata": {},
   "outputs": [],
   "source": [
    "# Showing results\n",
    "orig_img=cv2.imread(urllib.parse.urljoin(b_path, 'res_CH_JQugBNjc_2.jpg'))\n",
    "big_boxes_img=orig_img.copy()\n",
    "for r in text_boxes:\n",
    "    cv2.rectangle(big_boxes_img, r[0], r[1], (255, 0, 0), 2)\n",
    "show_cv_to_pil(big_boxes_img)\n"
   ]
  },
  {
   "cell_type": "code",
   "execution_count": 19,
   "id": "c3856903-59c1-4fa0-a4bd-345d98f5ded6",
   "metadata": {},
   "outputs": [
    {
     "data": {
      "text/plain": [
       "[[(271, 61), (572, 130)], [(37, 230), (250, 371)], [(346, 402), (563, 540)]]"
      ]
     },
     "execution_count": 19,
     "metadata": {},
     "output_type": "execute_result"
    }
   ],
   "source": [
    "text_boxes"
   ]
  },
  {
   "cell_type": "code",
   "execution_count": 20,
   "id": "6d90f7b8-ea81-4880-b139-5b042e0c8384",
   "metadata": {},
   "outputs": [
    {
     "data": {
      "text/plain": [
       "'[enhanced] Pct area covered by text boxes: 22.43%'"
      ]
     },
     "execution_count": 20,
     "metadata": {},
     "output_type": "execute_result"
    }
   ],
   "source": [
    "f\"[enhanced] Pct area covered by text boxes: {area_of_tl_br_box_list(text_boxes)/(600**2)*100}%\""
   ]
  },
  {
   "cell_type": "markdown",
   "id": "1045f39c-2674-44c0-bb97-f8964ebe6e3e",
   "metadata": {},
   "source": [
    "### OCR pytesseract"
   ]
  },
  {
   "cell_type": "code",
   "execution_count": null,
   "id": "2ed37e99-44d8-4ae2-81e3-a506a959d429",
   "metadata": {},
   "outputs": [],
   "source": [
    "# TODO\n",
    "# Understand if there's highlighted text: bold, full-capslock, higher fontsize"
   ]
  },
  {
   "cell_type": "code",
   "execution_count": null,
   "id": "fd676039-0a3c-4dea-9d62-9e3044cba0c2",
   "metadata": {},
   "outputs": [],
   "source": [
    "# Big boxes segmentaion"
   ]
  },
  {
   "cell_type": "code",
   "execution_count": 21,
   "id": "6c1279e0-c5d4-4652-b789-485d27710d9d",
   "metadata": {},
   "outputs": [],
   "source": [
    "import pytesseract"
   ]
  },
  {
   "cell_type": "code",
   "execution_count": 22,
   "id": "3a058ff2-183a-40ab-824f-eb73c6e23128",
   "metadata": {},
   "outputs": [],
   "source": [
    "def ocr_preprocess(text_box):\n",
    "    gray = cv2.cvtColor(text_box, cv2.COLOR_BGR2GRAY)\n",
    "    text_box_gray = cv2.threshold(gray, 0, 255, cv2.THRESH_BINARY | cv2.THRESH_OTSU)[1]\n",
    "    return cv2.medianBlur(gray, 3)\n",
    "\n",
    "def reconstruct_text_from_pieces(text_boxes, original_image):\n",
    "    full_text=''\n",
    "    for b_ in text_boxes:\n",
    "        text_box=original_image[b_[0][1]: b_[1][1], b_[0][0]: b_[1][0]]\n",
    "        # TODO save text boxes to disk?\n",
    "        # filename = \"{}.png\".format(os.getpid())\n",
    "        # cv2.imwrite(filename, gray)\n",
    "        pr_text_box=ocr_preprocess(text_box)\n",
    "        text = pytesseract.image_to_string(pr_text_box)\n",
    "        full_text+=(''.join(text.replace('\\n', ' ').splitlines()))\n",
    "        full_text.replace('  ', ' ')\n",
    "    return full_text\n",
    "\n",
    "def extract_uppers(T):\n",
    "    \"Extract list of upper case words from a string of text\"\n",
    "    uppers=[]\n",
    "    for word in T.split(' '):\n",
    "        if word.isupper():\n",
    "            uppers.append(word)\n",
    "        else:\n",
    "            continue\n",
    "    return uppers"
   ]
  },
  {
   "cell_type": "code",
   "execution_count": 23,
   "id": "3abb7728-632e-4f4c-b5ad-0af030deae09",
   "metadata": {},
   "outputs": [],
   "source": [
    "starting_image=cv2.imread('/home/atogni/Desktop/ocr_gradient/test_images/post_imgs/TEST/CH_JQugBNjc_2.jpg')"
   ]
  },
  {
   "cell_type": "code",
   "execution_count": 24,
   "id": "a893f53c-c96e-421b-839b-3137b5e27128",
   "metadata": {},
   "outputs": [],
   "source": [
    "b_=text_boxes[2]\n",
    "text_box=starting_image[b_[0][1]: b_[1][1], b_[0][0]: b_[1][0]]\n",
    "show_cv_to_pil(starting_image[b_[0][1]: b_[1][1], b_[0][0]: b_[1][0]])\n",
    "gray_text_box=ocr_preprocess(text_box)"
   ]
  },
  {
   "cell_type": "code",
   "execution_count": 25,
   "id": "e9091c22-45c6-4d98-8566-e226c91ff931",
   "metadata": {},
   "outputs": [],
   "source": [
    "show_cv_to_pil(gray_text_box)"
   ]
  },
  {
   "cell_type": "code",
   "execution_count": 26,
   "id": "47a6d6bd-a4c9-4999-bc55-a651aad39529",
   "metadata": {},
   "outputs": [
    {
     "name": "stdout",
     "output_type": "stream",
     "text": [
      "while addressing\n",
      "THE RISKS\n",
      "\n",
      "OF CLIMATE\n",
      "CHANGE\n",
      "\f",
      "\n"
     ]
    }
   ],
   "source": [
    "text = pytesseract.image_to_string(gray_text_box)\n",
    "print(text)"
   ]
  },
  {
   "cell_type": "code",
   "execution_count": 27,
   "id": "bda674ac-33b5-48fc-90f4-545010158c7c",
   "metadata": {},
   "outputs": [
    {
     "data": {
      "text/plain": [
       "[[(271, 61), (572, 130)], [(37, 230), (250, 371)], [(346, 402), (563, 540)]]"
      ]
     },
     "execution_count": 27,
     "metadata": {},
     "output_type": "execute_result"
    }
   ],
   "source": [
    "text_boxes"
   ]
  },
  {
   "cell_type": "code",
   "execution_count": 28,
   "id": "ea14c53f-06e5-4873-8e6d-0c8514a25915",
   "metadata": {},
   "outputs": [],
   "source": [
    "T=reconstruct_text_from_pieces(text_boxes=text_boxes,original_image=starting_image )"
   ]
  },
  {
   "cell_type": "code",
   "execution_count": 29,
   "id": "8824cedb-1bac-4b49-91e6-fb677f017403",
   "metadata": {},
   "outputs": [
    {
     "data": {
      "text/plain": [
       "'The dual challenge is finding ways to provide AFFORDABLE ENERGY  to a growing population A while addressing THE RISKS  OF CLIMATE CHANGE '"
      ]
     },
     "execution_count": 29,
     "metadata": {},
     "output_type": "execute_result"
    }
   ],
   "source": [
    "T"
   ]
  },
  {
   "cell_type": "code",
   "execution_count": 30,
   "id": "82812806-abe7-4ff2-bb65-14b7945cb70b",
   "metadata": {},
   "outputs": [
    {
     "data": {
      "text/plain": [
       "['AFFORDABLE', 'ENERGY', 'A', 'THE', 'RISKS', 'OF', 'CLIMATE', 'CHANGE']"
      ]
     },
     "execution_count": 30,
     "metadata": {},
     "output_type": "execute_result"
    }
   ],
   "source": [
    "extract_uppers(T)"
   ]
  },
  {
   "cell_type": "markdown",
   "id": "11b79784-752d-4e0c-a7fb-330c0e97b57d",
   "metadata": {},
   "source": [
    "### Entities extraction"
   ]
  },
  {
   "cell_type": "code",
   "execution_count": 59,
   "id": "d2342ee8-1c45-43b3-ad1c-08970c259072",
   "metadata": {
    "tags": []
   },
   "outputs": [],
   "source": [
    "# ! pip3 install -U spacy\n",
    "# ! python3 -m spacy download en_core_web_sm\n",
    "# ! pip3 install https://github.com/explosion/spacy-models/releases/download/en_core_web_sm-2.2.0/en_core_web_sm-2.2.0.tar.gz\n"
   ]
  },
  {
   "cell_type": "code",
   "execution_count": 31,
   "id": "1a885444-4f78-43f9-9897-59b67d43253f",
   "metadata": {},
   "outputs": [],
   "source": [
    "import spacy"
   ]
  },
  {
   "cell_type": "code",
   "execution_count": 32,
   "id": "ada3df99-5565-4c63-a87f-9e7d55a04e77",
   "metadata": {},
   "outputs": [
    {
     "ename": "OSError",
     "evalue": "[E050] Can't find model 'en_core_web_sm'. It doesn't seem to be a shortcut link, a Python package or a valid path to a data directory.",
     "output_type": "error",
     "traceback": [
      "\u001b[0;31m---------------------------------------------------------------------------\u001b[0m",
      "\u001b[0;31mOSError\u001b[0m                                   Traceback (most recent call last)",
      "Input \u001b[0;32mIn [32]\u001b[0m, in \u001b[0;36m<cell line: 1>\u001b[0;34m()\u001b[0m\n\u001b[0;32m----> 1\u001b[0m nlp \u001b[38;5;241m=\u001b[39m \u001b[43mspacy\u001b[49m\u001b[38;5;241;43m.\u001b[39;49m\u001b[43mload\u001b[49m\u001b[43m(\u001b[49m\u001b[38;5;124;43m'\u001b[39;49m\u001b[38;5;124;43men_core_web_sm\u001b[39;49m\u001b[38;5;124;43m'\u001b[39;49m\u001b[43m)\u001b[49m\n",
      "File \u001b[0;32m~/.local/lib/python3.8/site-packages/spacy/__init__.py:30\u001b[0m, in \u001b[0;36mload\u001b[0;34m(name, **overrides)\u001b[0m\n\u001b[1;32m     28\u001b[0m \u001b[38;5;28;01mif\u001b[39;00m depr_path \u001b[38;5;129;01mnot\u001b[39;00m \u001b[38;5;129;01min\u001b[39;00m (\u001b[38;5;28;01mTrue\u001b[39;00m, \u001b[38;5;28;01mFalse\u001b[39;00m, \u001b[38;5;28;01mNone\u001b[39;00m):\n\u001b[1;32m     29\u001b[0m     warnings\u001b[38;5;241m.\u001b[39mwarn(Warnings\u001b[38;5;241m.\u001b[39mW001\u001b[38;5;241m.\u001b[39mformat(path\u001b[38;5;241m=\u001b[39mdepr_path), \u001b[38;5;167;01mDeprecationWarning\u001b[39;00m)\n\u001b[0;32m---> 30\u001b[0m \u001b[38;5;28;01mreturn\u001b[39;00m \u001b[43mutil\u001b[49m\u001b[38;5;241;43m.\u001b[39;49m\u001b[43mload_model\u001b[49m\u001b[43m(\u001b[49m\u001b[43mname\u001b[49m\u001b[43m,\u001b[49m\u001b[43m \u001b[49m\u001b[38;5;241;43m*\u001b[39;49m\u001b[38;5;241;43m*\u001b[39;49m\u001b[43moverrides\u001b[49m\u001b[43m)\u001b[49m\n",
      "File \u001b[0;32m~/.local/lib/python3.8/site-packages/spacy/util.py:175\u001b[0m, in \u001b[0;36mload_model\u001b[0;34m(name, **overrides)\u001b[0m\n\u001b[1;32m    173\u001b[0m \u001b[38;5;28;01melif\u001b[39;00m \u001b[38;5;28mhasattr\u001b[39m(name, \u001b[38;5;124m\"\u001b[39m\u001b[38;5;124mexists\u001b[39m\u001b[38;5;124m\"\u001b[39m):  \u001b[38;5;66;03m# Path or Path-like to model data\u001b[39;00m\n\u001b[1;32m    174\u001b[0m     \u001b[38;5;28;01mreturn\u001b[39;00m load_model_from_path(name, \u001b[38;5;241m*\u001b[39m\u001b[38;5;241m*\u001b[39moverrides)\n\u001b[0;32m--> 175\u001b[0m \u001b[38;5;28;01mraise\u001b[39;00m \u001b[38;5;167;01mIOError\u001b[39;00m(Errors\u001b[38;5;241m.\u001b[39mE050\u001b[38;5;241m.\u001b[39mformat(name\u001b[38;5;241m=\u001b[39mname))\n",
      "\u001b[0;31mOSError\u001b[0m: [E050] Can't find model 'en_core_web_sm'. It doesn't seem to be a shortcut link, a Python package or a valid path to a data directory."
     ]
    }
   ],
   "source": [
    "nlp = spacy.load('en_core_web_sm')"
   ]
  },
  {
   "cell_type": "code",
   "execution_count": 58,
   "id": "1f847965-0e61-4c62-91d7-e5a3f08855de",
   "metadata": {},
   "outputs": [
    {
     "ename": "ModuleNotFoundError",
     "evalue": "No module named 'en_core_web_sm'",
     "output_type": "error",
     "traceback": [
      "\u001b[0;31m---------------------------------------------------------------------------\u001b[0m",
      "\u001b[0;31mModuleNotFoundError\u001b[0m                       Traceback (most recent call last)",
      "Input \u001b[0;32mIn [58]\u001b[0m, in \u001b[0;36m<cell line: 1>\u001b[0;34m()\u001b[0m\n\u001b[0;32m----> 1\u001b[0m \u001b[38;5;28;01mimport\u001b[39;00m \u001b[38;5;21;01men_core_web_sm\u001b[39;00m\n\u001b[1;32m      2\u001b[0m nlp \u001b[38;5;241m=\u001b[39m en_core_web_sm\u001b[38;5;241m.\u001b[39mload()\n",
      "\u001b[0;31mModuleNotFoundError\u001b[0m: No module named 'en_core_web_sm'"
     ]
    }
   ],
   "source": [
    "import en_core_web_sm\n",
    "nlp = en_core_web_sm.load()"
   ]
  },
  {
   "cell_type": "code",
   "execution_count": null,
   "id": "0582ba49-c252-4f3d-bb1a-88f89a2a2362",
   "metadata": {},
   "outputs": [],
   "source": []
  }
 ],
 "metadata": {
  "kernelspec": {
   "display_name": "Python 3 (ipykernel)",
   "language": "python",
   "name": "python3"
  },
  "language_info": {
   "codemirror_mode": {
    "name": "ipython",
    "version": 3
   },
   "file_extension": ".py",
   "mimetype": "text/x-python",
   "name": "python",
   "nbconvert_exporter": "python",
   "pygments_lexer": "ipython3",
   "version": "3.8.10"
  }
 },
 "nbformat": 4,
 "nbformat_minor": 5
}
