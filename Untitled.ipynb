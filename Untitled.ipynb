{
 "cells": [
  {
   "cell_type": "code",
   "execution_count": 12,
   "id": "a0add472-ddfa-4e33-8168-e03ed165ea06",
   "metadata": {},
   "outputs": [],
   "source": [
    "import json\n",
    "import os\n",
    "import numpy as np\n",
    "import urllib.parse\n",
    "from PIL import Image\n",
    "import cv2\n",
    "import types\n",
    "from collections import namedtuple"
   ]
  },
  {
   "cell_type": "code",
   "execution_count": 13,
   "id": "e37e66b6-98f7-4bc4-8e06-39df295531ab",
   "metadata": {},
   "outputs": [],
   "source": [
    "b_path='/home/atogni/Desktop/ocr_gradient/craft_model/result/'\n",
    "bboxes_path=urllib.parse.urljoin(b_path,'bboxes_infos.json')"
   ]
  },
  {
   "cell_type": "code",
   "execution_count": 14,
   "id": "e3f32be3-6c41-4d93-bb08-d8577ada65ff",
   "metadata": {},
   "outputs": [],
   "source": [
    "with open(bboxes_path) as f:\n",
    "    boxes=json.load(f)"
   ]
  },
  {
   "cell_type": "code",
   "execution_count": 15,
   "id": "f7348141-eb26-4f67-a7f9-eabdbb26817b",
   "metadata": {},
   "outputs": [],
   "source": [
    "def extract_bboxes_area_pxl(list_bboxes):\n",
    "    a=0.0\n",
    "    for box in list_bboxes:\n",
    "        dx=round(max(box[0][0], box[1][0]) - min(box[0][0], box[1][0]), 2)\n",
    "        dy=round(max(box[0][1], box[3][1]) - min(box[0][1], box[3][1]), 2)\n",
    "        a+=dx*dy\n",
    "    return round(a, 0)\n",
    "\n",
    "\n",
    "\n",
    "def show_cv_to_pil(cv_img):\n",
    "    cv_img = cv2.cvtColor(cv_img, cv2.COLOR_BGR2RGB)\n",
    "    im_pil = Image.fromarray(cv_img)\n",
    "    im_pil.show()"
   ]
  },
  {
   "cell_type": "code",
   "execution_count": 16,
   "id": "ef53b710-a6ac-481e-8381-9d5fc69544cb",
   "metadata": {},
   "outputs": [
    {
     "data": {
      "text/plain": [
       "79780.0"
      ]
     },
     "execution_count": 16,
     "metadata": {},
     "output_type": "execute_result"
    }
   ],
   "source": [
    "extract_bboxes_area_pxl(boxes['CezOjxXOalw_1.jpg'])\n"
   ]
  },
  {
   "cell_type": "code",
   "execution_count": 17,
   "id": "cf56bdbe-b32e-4e91-82df-35e61c11f6bb",
   "metadata": {},
   "outputs": [],
   "source": [
    "im = Image.open(urllib.parse.urljoin(b_path, 'res_CezOjxXOalw_1.jpg'))\n",
    "width, height = im.size"
   ]
  },
  {
   "cell_type": "code",
   "execution_count": 171,
   "id": "0a4b9901-b7a4-4711-9111-bdd013743c49",
   "metadata": {},
   "outputs": [],
   "source": [
    "im.show()"
   ]
  },
  {
   "cell_type": "code",
   "execution_count": 19,
   "id": "60bf0a0d-78fe-49d5-822f-42fee89dccc1",
   "metadata": {},
   "outputs": [],
   "source": [
    "Box= types.SimpleNamespace()"
   ]
  },
  {
   "cell_type": "code",
   "execution_count": 20,
   "id": "8be6ec3d-5e98-4a7e-afeb-08ae414941b5",
   "metadata": {},
   "outputs": [],
   "source": [
    "Box = namedtuple(\"Box\", \"top_left bottom_right dx dy\")\n",
    "Idx_Box= namedtuple(\"Idx_Box\", \" id top_left bottom_right dx dy\")"
   ]
  },
  {
   "cell_type": "code",
   "execution_count": 21,
   "id": "ad67c60c-d6a5-4daa-9966-78360de2b02e",
   "metadata": {},
   "outputs": [],
   "source": [
    "def box_to_tl_br(box_vertices):\n",
    "    tl=[min([v[0] for v in box_vertices]), min([v[1] for v in box_vertices])]\n",
    "    br=[max([v[0] for v in box_vertices]), max([v[1] for v in box_vertices])]\n",
    "    dx=round(max(box_vertices[0][0], box_vertices[1][0]) - min(box_vertices[0][0], box_vertices[1][0]), 2)\n",
    "    dy=round(max(box_vertices[0][1], box_vertices[3][1]) - min(box_vertices[0][1], box_vertices[3][1]), 2)\n",
    "    \n",
    "    return Box(tl, br, dx, dy)"
   ]
  },
  {
   "cell_type": "code",
   "execution_count": 27,
   "id": "a7d877d9-f9f2-4fa3-b7b2-bfa6c48b16ae",
   "metadata": {},
   "outputs": [],
   "source": [
    "tldr_boxes={}\n",
    "n=0\n",
    "for k, v in boxes.items():\n",
    "    tldr_boxes[k]=[box_to_tl_br(box_vertices=box) for box in v]\n",
    "    \n",
    "for k, v in tldr_boxes.items():\n",
    "    for i in range(len(v)):\n",
    "        v[i]=Idx_Box(i, *v[i])"
   ]
  },
  {
   "cell_type": "code",
   "execution_count": 196,
   "id": "67356f45-0b95-4d51-9bd6-d0b2e09dd167",
   "metadata": {},
   "outputs": [],
   "source": [
    "def y_order_boxes_list(boxes_list):\n",
    "    return boxes_list.sort(key=lambda a: a.top_left[1])\n",
    "    "
   ]
  },
  {
   "cell_type": "code",
   "execution_count": 30,
   "id": "128ceedd-c4e9-4b3a-8ff7-a0f0da7dbf8a",
   "metadata": {},
   "outputs": [],
   "source": [
    "tldr_boxes['CezOjxXOalw_1.jpg']"
   ]
  },
  {
   "cell_type": "code",
   "execution_count": 33,
   "id": "a62fb464-5c0d-49b6-b67c-ad103d05d8c1",
   "metadata": {},
   "outputs": [],
   "source": [
    "tldr_boxes['CezOjxXOalw_1.jpg'].sort(key=lambda a: a.top_left[1])"
   ]
  },
  {
   "cell_type": "code",
   "execution_count": 190,
   "id": "f04e6354-7ee0-4910-ad16-849077e96785",
   "metadata": {
    "tags": []
   },
   "outputs": [],
   "source": [
    "def group_closest_boxes(b_list, y_toll):\n",
    "    ids_grouped=[]\n",
    "    for i in range(0, len(b_list)-1):\n",
    "        if abs(b_list[i].top_left[1] - b_list[i+1].top_left[1]) < y_toll:\n",
    "            ids_grouped.append(b_list[i].id)\n",
    "        else: \n",
    "            ids_grouped.append(b_list[i].id)\n",
    "            break\n",
    "            \n",
    "    if len(ids_grouped) < len(b_list):\n",
    "        try:\n",
    "            remaining=b_list[max(ids_grouped)+1:]\n",
    "        except:\n",
    "            remaining= []\n",
    "        \n",
    "    return ids_grouped, remaining\n",
    "\n",
    "def iterate_search(bboxes, groups):\n",
    "    g, r = group_closest_boxes(bboxes, 50)\n",
    "    groups.append(g)\n",
    "    if len(r)>1:\n",
    "        return True\n",
    "    else:\n",
    "        return False\n",
    "    "
   ]
  },
  {
   "cell_type": "code",
   "execution_count": 191,
   "id": "1654d109-57ce-4fe8-b8e8-5e594b07c365",
   "metadata": {},
   "outputs": [],
   "source": [
    "b_list=tldr_boxes['CezOjxXOalw_1.jpg']\n"
   ]
  },
  {
   "cell_type": "code",
   "execution_count": 196,
   "id": "bfb7f027-8234-4b63-bb58-eda0d693429e",
   "metadata": {},
   "outputs": [],
   "source": [
    "check=True\n",
    "groups=[]\n",
    "max_groups=10\n",
    "while check:\n",
    "        g, r = group_closest_boxes(b_list, 50)\n",
    "        groups.append(g)\n",
    "        if len(r)>1:\n",
    "            check = iterate_search(bboxes=r, groups=groups)\n",
    "        else:\n",
    "            check=False\n",
    "\n"
   ]
  },
  {
   "cell_type": "code",
   "execution_count": null,
   "id": "9e551d82-c760-4a90-8d04-67fd09755a2d",
   "metadata": {},
   "outputs": [],
   "source": []
  },
  {
   "cell_type": "code",
   "execution_count": 208,
   "id": "b7365b08-47b6-42fd-827b-8b4846a48d81",
   "metadata": {},
   "outputs": [],
   "source": [
    "def create_big_box_from_ids(ids, boxes_data):\n",
    "    to_bound=[]\n",
    "    for box in boxes_data:\n",
    "        if getattr(box, 'id') in ids: to_bound.append(box) \n",
    "        \n",
    "    \n",
    "    return to_bound\n",
    "            "
   ]
  },
  {
   "cell_type": "code",
   "execution_count": null,
   "id": "22006ea2-2699-4a1c-b59f-d20d7172508b",
   "metadata": {},
   "outputs": [],
   "source": []
  },
  {
   "cell_type": "code",
   "execution_count": 217,
   "id": "9ffce0b6-bb99-4c32-95c6-a89a79b73d71",
   "metadata": {},
   "outputs": [],
   "source": []
  },
  {
   "cell_type": "code",
   "execution_count": 238,
   "id": "03b9b674-1973-426c-909b-902dfc4894cd",
   "metadata": {},
   "outputs": [],
   "source": [
    "A.sort(key=lambda a: a.top_left[0])\n",
    "TL=A[0].top_left[0]\n",
    "\n",
    "\n",
    "A.sort(key=lambda a: a.bottom_right[0])\n",
    "BR=A[-1].bottom_right\n"
   ]
  },
  {
   "cell_type": "code",
   "execution_count": 239,
   "id": "f1a7e0a9-198e-4994-ac3f-72793b5032a1",
   "metadata": {},
   "outputs": [
    {
     "data": {
      "text/plain": [
       "[190.1516571044922, 189.93267822265625]"
      ]
     },
     "execution_count": 239,
     "metadata": {},
     "output_type": "execute_result"
    }
   ],
   "source": [
    "TL"
   ]
  },
  {
   "cell_type": "code",
   "execution_count": 240,
   "id": "dbea35a9-5c91-415c-8118-59d244c0e021",
   "metadata": {},
   "outputs": [
    {
     "data": {
      "text/plain": [
       "[569.3333129882812, 218.6666717529297]"
      ]
     },
     "execution_count": 240,
     "metadata": {},
     "output_type": "execute_result"
    }
   ],
   "source": [
    "BR"
   ]
  },
  {
   "cell_type": "code",
   "execution_count": null,
   "id": "22e9e0c7-b1d6-4ccb-8528-0b1f9222cbdf",
   "metadata": {},
   "outputs": [],
   "source": []
  },
  {
   "cell_type": "code",
   "execution_count": 220,
   "id": "72f8e91b-18d2-41c6-8261-4b0ae786f709",
   "metadata": {},
   "outputs": [],
   "source": [
    "A=create_big_box_from_ids(groups[0], tldr_boxes['CezOjxXOalw_1.jpg'])"
   ]
  },
  {
   "cell_type": "code",
   "execution_count": null,
   "id": "7a590178-47ec-4bdd-b88f-f01f26127a5e",
   "metadata": {},
   "outputs": [],
   "source": []
  }
 ],
 "metadata": {
  "kernelspec": {
   "display_name": "Python 3 (ipykernel)",
   "language": "python",
   "name": "python3"
  },
  "language_info": {
   "codemirror_mode": {
    "name": "ipython",
    "version": 3
   },
   "file_extension": ".py",
   "mimetype": "text/x-python",
   "name": "python",
   "nbconvert_exporter": "python",
   "pygments_lexer": "ipython3",
   "version": "3.8.10"
  }
 },
 "nbformat": 4,
 "nbformat_minor": 5
}
