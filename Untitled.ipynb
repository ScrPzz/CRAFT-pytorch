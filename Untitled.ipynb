{
 "cells": [
  {
   "cell_type": "code",
   "execution_count": 1,
   "id": "eeae5075-f73a-45ee-b358-f111f6789b24",
   "metadata": {},
   "outputs": [],
   "source": [
    "# https://github.com/clovaai/deep-text-recognition-benchmark#download-lmdb-dataset-for-traininig-and-evaluation-from-here\n",
    "# https://github.com/clovaai/CRAFT-pytorch"
   ]
  },
  {
   "cell_type": "code",
   "execution_count": 1,
   "id": "a0add472-ddfa-4e33-8168-e03ed165ea06",
   "metadata": {},
   "outputs": [],
   "source": [
    "import json\n",
    "import os\n",
    "import numpy as np\n",
    "import urllib.parse\n",
    "from PIL import Image\n",
    "import cv2\n",
    "import types\n",
    "from collections import namedtuple"
   ]
  },
  {
   "cell_type": "code",
   "execution_count": 2,
   "id": "e37e66b6-98f7-4bc4-8e06-39df295531ab",
   "metadata": {},
   "outputs": [],
   "source": [
    "b_path='/home/atogni/Desktop/ocr_gradient/craft_model/result/'\n",
    "bboxes_path=urllib.parse.urljoin(b_path,'bboxes_infos.json')"
   ]
  },
  {
   "cell_type": "code",
   "execution_count": 3,
   "id": "e3f32be3-6c41-4d93-bb08-d8577ada65ff",
   "metadata": {},
   "outputs": [],
   "source": [
    "with open(bboxes_path) as f:\n",
    "    boxes=json.load(f)"
   ]
  },
  {
   "cell_type": "code",
   "execution_count": 26,
   "id": "eb742540-9bb3-446b-a5d5-6fc931cf0a01",
   "metadata": {},
   "outputs": [],
   "source": [
    "im = Image.open(urllib.parse.urljoin(b_path, 'res_CH_JQugBNjc_2.jpg'))\n",
    "width, height = im.size\n",
    "im.show()"
   ]
  },
  {
   "cell_type": "code",
   "execution_count": 5,
   "id": "f7348141-eb26-4f67-a7f9-eabdbb26817b",
   "metadata": {},
   "outputs": [],
   "source": [
    "def extract_4bboxes_area_pxl(list_bboxes):\n",
    "    \"Extract area of a list of boxes in 4 vertex format\"\n",
    "    a=0.0\n",
    "    for box in list_bboxes:\n",
    "        dx=round(max(box[0][0], box[1][0]) - min(box[0][0], box[1][0]), 2)\n",
    "        dy=round(max(box[0][1], box[3][1]) - min(box[0][1], box[3][1]), 2)\n",
    "        a+=dx*dy\n",
    "    return round(a, 0)\n",
    "\n",
    "def show_cv_to_pil(cv_img):\n",
    "    \"Auxiliary function to fix opencv.show() not working on linux\"\n",
    "    cv_img = cv2.cvtColor(cv_img, cv2.COLOR_BGR2RGB)\n",
    "    im_pil = Image.fromarray(cv_img)\n",
    "    im_pil.show()\n",
    "    \n",
    "def box_to_tl_br(box_vertices):\n",
    "    \"\"\"Transform 4-vertex box to named tuple:\n",
    "    Box = namedtuple(\"Box\", \"top_left bottom_right dx dy\")\"\"\"\n",
    "    \n",
    "    tl=[min([v[0] for v in box_vertices]), min([v[1] for v in box_vertices])]\n",
    "    br=[max([v[0] for v in box_vertices]), max([v[1] for v in box_vertices])]\n",
    "    dx=round(max(box_vertices[0][0], box_vertices[1][0]) - min(box_vertices[0][0], box_vertices[1][0]), 2)\n",
    "    dy=round(max(box_vertices[0][1], box_vertices[3][1]) - min(box_vertices[0][1], box_vertices[3][1]), 2)\n",
    "    \n",
    "    return Box(tl, br, dx, dy)\n",
    "\n",
    "\n",
    "def tl_br_list_to_centers(tl_dr_Idx_Box, round_to=int):\n",
    "    \"Extract boxes centers from list of Idx_Box named tuple\"\n",
    "    centers=[]\n",
    "    for box in tl_dr_Idx_Box:\n",
    "        if round_to >0:\n",
    "            centers.append((box.id, [round(box.top_left[0] + 0.5*(box.dx), round_to), round(box.top_left[1] + 0.5*(box.dy) , round_to) ]))\n",
    "        else:\n",
    "            centers.append((box.id, [int(box.top_left[0] + 0.5*(box.dx)), int(box.top_left[1] + 0.5*(box.dy)) ]))\n",
    "    return centers\n",
    "\n",
    "\n",
    "def create_big_box_from_ids(ids, boxes_data):\n",
    "    \"Merge boxes from id list into a single box\"\n",
    "    to_bound=[]\n",
    "    for box in boxes_data:\n",
    "        if getattr(box, 'id') in ids: to_bound.append(box) \n",
    "    to_bound.sort(key=lambda a: a.top_left[0])\n",
    "    TLx=to_bound[0].top_left[0]\n",
    "    to_bound.sort(key=lambda a: a.top_left[1])\n",
    "    TLy=to_bound[0].top_left[1]\n",
    "\n",
    "    to_bound.sort(key=lambda a: a.bottom_right[0])\n",
    "    BRx=to_bound[-1].bottom_right[0]\n",
    "    to_bound.sort(key=lambda a: a.bottom_right[1])\n",
    "    BRy=to_bound[-1].bottom_right[1]\n",
    "    \n",
    "    return [(int(TLx), int(TLy)), (int(BRx), int(BRy))]\n",
    "\n",
    "def area_of_tl_br_box_list(tl_br_tup_lst):\n",
    "    \"Calculate area of a tl_dr box list\"\n",
    "    a=0.0\n",
    "    for tl_br_tup in tl_br_tup_lst:\n",
    "        #print(tl_br_tup)\n",
    "        dx=round(max(tl_br_tup[0][0], tl_br_tup[1][0]) - min(tl_br_tup[0][0], tl_br_tup[1][0]), 0)\n",
    "        dy=round(max(tl_br_tup[0][1], tl_br_tup[1][1]) - min(tl_br_tup[0][1], tl_br_tup[1][1]), 0)\n",
    "        a+= int(dx*dy)\n",
    "    return a"
   ]
  },
  {
   "cell_type": "code",
   "execution_count": 6,
   "id": "ef53b710-a6ac-481e-8381-9d5fc69544cb",
   "metadata": {},
   "outputs": [
    {
     "data": {
      "text/plain": [
       "'Pct area covered by boxes: 15.82%'"
      ]
     },
     "execution_count": 6,
     "metadata": {},
     "output_type": "execute_result"
    }
   ],
   "source": [
    "f\"Pct area covered by text boxes: {round((extract_bboxes_area_pxl(boxes['CH_JQugBNjc_2.jpg']) / (width*height))*100, 2)}%\"\n"
   ]
  },
  {
   "cell_type": "code",
   "execution_count": 7,
   "id": "8be6ec3d-5e98-4a7e-afeb-08ae414941b5",
   "metadata": {},
   "outputs": [],
   "source": [
    "Box = namedtuple(\"Box\", \"top_left bottom_right dx dy\")\n",
    "Idx_Box=namedtuple(\"Idx_Box\", \"id top_left bottom_right dx dy\")"
   ]
  },
  {
   "cell_type": "code",
   "execution_count": 9,
   "id": "a7d877d9-f9f2-4fa3-b7b2-bfa6c48b16ae",
   "metadata": {},
   "outputs": [],
   "source": [
    "tldr_boxes={}\n",
    "n=0\n",
    "for k, v in boxes.items():\n",
    "    tldr_boxes[k]=[box_to_tl_br(box_vertices=box) for box in v]\n",
    "    \n",
    "for k, v in tldr_boxes.items():\n",
    "    for i in range(len(v)):\n",
    "        v[i]=Idx_Box(i, *v[i])"
   ]
  },
  {
   "cell_type": "code",
   "execution_count": 10,
   "id": "e1cd38f9-585a-427a-a0ae-fb4657566179",
   "metadata": {},
   "outputs": [],
   "source": [
    "b_list=tldr_boxes['CH_JQugBNjc_2.jpg']"
   ]
  },
  {
   "cell_type": "code",
   "execution_count": 11,
   "id": "d26accfc-70ae-4ec5-9d4e-2586edeafd43",
   "metadata": {},
   "outputs": [
    {
     "data": {
      "text/plain": [
       "[Idx_Box(id=0, top_left=[271.4495544433594, 61.836456298828125], bottom_right=[543.1077270507812, 100.0404281616211], dx=270.89, dy=31.68),\n",
       " Idx_Box(id=1, top_left=[272.0000305175781, 98.66665649414062], bottom_right=[572.0, 130.66665649414062], dx=300.0, dy=32.0),\n",
       " Idx_Box(id=2, top_left=[41.33333206176758, 230.6666717529297], bottom_right=[250.6666717529297, 258.6666564941406], dx=209.33, dy=28.0),\n",
       " Idx_Box(id=3, top_left=[40.0, 268.0], bottom_right=[166.6666717529297, 296.0], dx=126.67, dy=28.0),\n",
       " Idx_Box(id=4, top_left=[37.33333206176758, 304.0], bottom_right=[202.6666717529297, 336.0], dx=165.33, dy=32.0),\n",
       " Idx_Box(id=5, top_left=[37.26239776611328, 331.88360595703125], bottom_right=[181.06959533691406, 371.5979919433594], dx=141.64, dy=29.22),\n",
       " Idx_Box(id=6, top_left=[347.3746643066406, 402.5814208984375], bottom_right=[563.505126953125, 440.4438781738281], dx=215.1, dy=30.6),\n",
       " Idx_Box(id=7, top_left=[346.6666564941406, 441.3333435058594], bottom_right=[508.0, 469.3333435058594], dx=161.33, dy=28.0),\n",
       " Idx_Box(id=8, top_left=[348.0, 474.6666564941406], bottom_right=[536.0, 502.6666564941406], dx=188.0, dy=28.0),\n",
       " Idx_Box(id=9, top_left=[348.0, 512.0], bottom_right=[482.6666564941406, 540.0], dx=134.67, dy=28.0)]"
      ]
     },
     "execution_count": 11,
     "metadata": {},
     "output_type": "execute_result"
    }
   ],
   "source": [
    "b_list"
   ]
  },
  {
   "cell_type": "code",
   "execution_count": 34,
   "id": "f04e6354-7ee0-4910-ad16-849077e96785",
   "metadata": {
    "tags": []
   },
   "outputs": [],
   "source": [
    "def group_closest_boxes(b_list, y_toll):\n",
    "    if len(b_list) >1:\n",
    "        ids_grouped=[]\n",
    "        for i in range(0, len(b_list)-1):\n",
    "            if abs(b_list[i].top_left[1] - b_list[i+1].top_left[1]) < y_toll:\n",
    "                ids_grouped.append(b_list[i].id)\n",
    "            else: \n",
    "                ids_grouped.append(b_list[i].id)\n",
    "                break\n",
    "\n",
    "        if len(ids_grouped) < len(b_list):\n",
    "            try:\n",
    "                remaining=b_list[max(ids_grouped)+1:]\n",
    "            except:\n",
    "                remaining= []\n",
    "        return ids_grouped, remaining\n",
    "    else:\n",
    "        ids_grouped=b_list[0].id\n",
    "        return ids_grouped, None\n",
    "        \n",
    "\n",
    "def iterate_search(bboxes, groups):\n",
    "    g, r = group_closest_boxes(bboxes, 50)\n",
    "    groups.append(g)\n",
    "    if len(r)>1:\n",
    "        return True\n",
    "    else:\n",
    "        return False\n",
    "    "
   ]
  },
  {
   "cell_type": "code",
   "execution_count": 45,
   "id": "ce0cea29-5bde-42e0-b3cd-cfef8fc66d77",
   "metadata": {},
   "outputs": [],
   "source": [
    "g, r = group_closest_boxes(b_list, 50)\n"
   ]
  },
  {
   "cell_type": "code",
   "execution_count": 47,
   "id": "d74eec1b-7110-48cd-9c03-d2e8befce37b",
   "metadata": {},
   "outputs": [],
   "source": [
    "g, r = group_closest_boxes(r, 50)"
   ]
  },
  {
   "cell_type": "code",
   "execution_count": 48,
   "id": "4bcfd55d-5867-40e8-a467-05725eb1d456",
   "metadata": {},
   "outputs": [
    {
     "data": {
      "text/plain": [
       "[]"
      ]
     },
     "execution_count": 48,
     "metadata": {},
     "output_type": "execute_result"
    }
   ],
   "source": [
    "r"
   ]
  },
  {
   "cell_type": "code",
   "execution_count": 36,
   "id": "252434e9-9ea4-4006-aeb0-af46e536b826",
   "metadata": {},
   "outputs": [
    {
     "data": {
      "text/plain": [
       "([8, 9, 10, 11, 12, 13], [])"
      ]
     },
     "execution_count": 36,
     "metadata": {},
     "output_type": "execute_result"
    }
   ],
   "source": [
    "group_closest_boxes(r, 50)"
   ]
  },
  {
   "cell_type": "code",
   "execution_count": 37,
   "id": "51712709-9a37-43cf-be16-1da7ac71caef",
   "metadata": {},
   "outputs": [],
   "source": []
  },
  {
   "cell_type": "code",
   "execution_count": 39,
   "id": "bfb7f027-8234-4b63-bb58-eda0d693429e",
   "metadata": {},
   "outputs": [],
   "source": [
    "check=True\n",
    "groups=[]\n",
    "max_groups=10\n",
    "while check:\n",
    "        g, r = group_closest_boxes(b_list, 50)\n",
    "        groups.append(g)\n",
    "        if len(r)>1:\n",
    "            check = iterate_search(bboxes=r, groups=groups)\n",
    "        else:\n",
    "            check=False\n",
    "\n",
    "big_boxes=[]            \n",
    "for g in groups: \n",
    "    big_boxes.append(create_big_box_from_ids(g, tldr_boxes['CH_JQugBNjc_2.jpg']))\n"
   ]
  },
  {
   "cell_type": "code",
   "execution_count": 40,
   "id": "4a59e394-eb0e-43b4-b1cc-8bfa2add26bf",
   "metadata": {},
   "outputs": [
    {
     "data": {
      "text/plain": [
       "[[(270.08740234375, 63.959259033203125),\n",
       "  (573.3157348632812, 132.0764923095703)],\n",
       " [(37.26239776611328, 230.66664123535156),\n",
       "  (251.9999542236328, 371.5979919433594)]]"
      ]
     },
     "execution_count": 40,
     "metadata": {},
     "output_type": "execute_result"
    }
   ],
   "source": [
    "big_boxes"
   ]
  },
  {
   "cell_type": "code",
   "execution_count": 42,
   "id": "03b9b674-1973-426c-909b-902dfc4894cd",
   "metadata": {},
   "outputs": [
    {
     "data": {
      "text/plain": [
       "[Idx_Box(id=0, top_left=[328.0, 65.33333587646484], bottom_right=[385.3333435058594, 92.0], dx=57.33, dy=26.67),\n",
       " Idx_Box(id=1, top_left=[388.39892578125, 63.959259033203125], bottom_right=[516.8175659179688, 100.00591278076172], dx=127.07, dy=30.4),\n",
       " Idx_Box(id=2, top_left=[272.0, 66.66666412353516], bottom_right=[324.0, 92.0], dx=52.0, dy=25.33),\n",
       " Idx_Box(id=3, top_left=[518.6666870117188, 68.0], bottom_right=[542.6666870117188, 92.0], dx=24.0, dy=24.0),\n",
       " Idx_Box(id=4, top_left=[270.08740234375, 94.49179077148438], bottom_right=[364.83056640625, 132.0764923095703], dx=92.09, dy=29.21),\n",
       " Idx_Box(id=5, top_left=[473.0207214355469, 96.74925994873047], bottom_right=[573.3157348632812, 131.62832641601562], dx=98.41, dy=28.32),\n",
       " Idx_Box(id=6, top_left=[438.6666564941406, 102.66666412353516], bottom_right=[469.3333435058594, 125.33333587646484], dx=30.67, dy=22.67),\n",
       " Idx_Box(id=7, top_left=[369.3333435058594, 104.0], bottom_right=[436.0, 130.6666717529297], dx=66.67, dy=26.67),\n",
       " Idx_Box(id=8, top_left=[41.33333206176758, 230.66664123535156], bottom_right=[251.9999542236328, 259.9999694824219], dx=210.67, dy=29.33),\n",
       " Idx_Box(id=9, top_left=[40.0, 268.0], bottom_right=[166.6666717529297, 296.0], dx=126.67, dy=28.0),\n",
       " Idx_Box(id=10, top_left=[93.33333587646484, 304.0], bottom_right=[202.6666717529297, 336.0], dx=109.33, dy=32.0),\n",
       " Idx_Box(id=11, top_left=[37.33333206176758, 305.3333435058594], bottom_right=[68.0, 329.3333435058594], dx=30.67, dy=24.0),\n",
       " Idx_Box(id=12, top_left=[73.33333587646484, 309.3333435058594], bottom_right=[89.33333587646484, 329.3333435058594], dx=16.0, dy=20.0),\n",
       " Idx_Box(id=13, top_left=[37.26239776611328, 331.88360595703125], bottom_right=[181.06959533691406, 371.5979919433594], dx=141.64, dy=29.22),\n",
       " Idx_Box(id=14, top_left=[347.9999694824219, 406.6666259765625], bottom_right=[418.6666259765625, 433.3332824707031], dx=70.67, dy=26.67),\n",
       " Idx_Box(id=15, top_left=[420.4156494140625, 403.4198303222656], bottom_right=[563.9364013671875, 440.6993713378906], dx=141.93, dy=29.65),\n",
       " Idx_Box(id=16, top_left=[417.3332824707031, 441.3332824707031], bottom_right=[507.9999694824219, 469.3332824707031], dx=90.67, dy=28.0),\n",
       " Idx_Box(id=17, top_left=[346.6666259765625, 442.6666259765625], bottom_right=[410.6666259765625, 469.3332824707031], dx=64.0, dy=26.67),\n",
       " Idx_Box(id=18, top_left=[398.6666564941406, 474.6666564941406], bottom_right=[536.0, 502.6666564941406], dx=137.33, dy=28.0),\n",
       " Idx_Box(id=19, top_left=[348.0, 476.0], bottom_right=[392.0, 502.6666564941406], dx=44.0, dy=26.67),\n",
       " Idx_Box(id=20, top_left=[348.0, 512.0], bottom_right=[482.6666564941406, 540.0], dx=134.67, dy=28.0)]"
      ]
     },
     "execution_count": 42,
     "metadata": {},
     "output_type": "execute_result"
    }
   ],
   "source": [
    "tldr_boxes['CH_JQugBNjc_2.jpg']\n"
   ]
  },
  {
   "cell_type": "markdown",
   "id": "7e715ce1-e7be-46ca-8882-3fbeb7616285",
   "metadata": {},
   "source": [
    "### Solution: MeanShift clustering"
   ]
  },
  {
   "cell_type": "code",
   "execution_count": 62,
   "id": "50e49b4e-1480-42f7-9cae-8834d965e2f1",
   "metadata": {},
   "outputs": [],
   "source": [
    "clustered_box=namedtuple(\"clustered_box\", \"id top_left bottom_right dx dy cluster_id\") "
   ]
  },
  {
   "cell_type": "code",
   "execution_count": 109,
   "id": "91db6d47-f007-45f2-895f-da7c5e826af8",
   "metadata": {},
   "outputs": [],
   "source": [
    "from sklearn.cluster import MeanShift\n",
    "from collections import Counter, defaultdict"
   ]
  },
  {
   "cell_type": "code",
   "execution_count": 110,
   "id": "fde1311f-de21-4c75-8fab-d4cc996685be",
   "metadata": {},
   "outputs": [],
   "source": [
    "centers=tl_br_to_centers(b_list, round_to=-1)"
   ]
  },
  {
   "cell_type": "code",
   "execution_count": 111,
   "id": "c5352efe-152d-4c86-bf0c-9fe1aefefc64",
   "metadata": {},
   "outputs": [],
   "source": [
    "X = np.array([c[1] for c in centers])\n",
    "clst = MeanShift(bandwidth=None).fit(X)"
   ]
  },
  {
   "cell_type": "code",
   "execution_count": 112,
   "id": "97ceeea1-3614-491a-87ec-61075a433992",
   "metadata": {},
   "outputs": [],
   "source": [
    "cluster_id_to_box_id=list(zip(clst.labels_, [c[0] for c in centers] ))\n",
    "clustered_boxes = collections.defaultdict(list)\n",
    "for x in cluster_id_to_box_id:\n",
    "    clustered_boxes[x[0]].append(x[1])\n",
    "clustered_boxes_ids=dict(clustered_boxes)"
   ]
  },
  {
   "cell_type": "code",
   "execution_count": 113,
   "id": "58993c9b-ffa7-49d6-b230-602349d7751e",
   "metadata": {},
   "outputs": [],
   "source": [
    "B=[]\n",
    "for k, v in clustered_boxes_ids.items():\n",
    "    B.append(create_big_box_from_ids(v, tldr_boxes['CH_JQugBNjc_2.jpg']))"
   ]
  },
  {
   "cell_type": "code",
   "execution_count": 120,
   "id": "af653425-ec82-403c-8762-9497bd98675f",
   "metadata": {},
   "outputs": [],
   "source": [
    "# Showing results\n",
    "orig_img=cv2.imread(urllib.parse.urljoin(b_path, 'res_CH_JQugBNjc_2.jpg'))\n",
    "big_boxes_img=orig_img.copy()\n",
    "for r in B:\n",
    "    cv2.rectangle(big_boxes_img, r[0], r[1], (255, 0, 0), 2)\n",
    "show_cv_to_pil(big_boxes_img)"
   ]
  },
  {
   "cell_type": "code",
   "execution_count": 146,
   "id": "c3856903-59c1-4fa0-a4bd-345d98f5ded6",
   "metadata": {},
   "outputs": [
    {
     "data": {
      "text/plain": [
       "[[(271, 61), (572, 130)], [(37, 230), (250, 371)], [(346, 402), (563, 540)]]"
      ]
     },
     "execution_count": 146,
     "metadata": {},
     "output_type": "execute_result"
    }
   ],
   "source": [
    "B"
   ]
  },
  {
   "cell_type": "code",
   "execution_count": null,
   "id": "a2ae190f-8b32-4153-979c-a760865c1311",
   "metadata": {},
   "outputs": [],
   "source": []
  },
  {
   "cell_type": "code",
   "execution_count": 149,
   "id": "6d90f7b8-ea81-4880-b139-5b042e0c8384",
   "metadata": {},
   "outputs": [
    {
     "data": {
      "text/plain": [
       "'[enhanced] Pct area covered by text boxes: 22.43%'"
      ]
     },
     "execution_count": 149,
     "metadata": {},
     "output_type": "execute_result"
    }
   ],
   "source": [
    "f\"[enhanced] Pct area covered by text boxes: {area_of_tl_br_box_list(B)/(600**2)*100}%\""
   ]
  },
  {
   "cell_type": "code",
   "execution_count": null,
   "id": "1195d6ae-231c-4b77-86a4-41f099f64400",
   "metadata": {},
   "outputs": [],
   "source": []
  }
 ],
 "metadata": {
  "kernelspec": {
   "display_name": "Python 3 (ipykernel)",
   "language": "python",
   "name": "python3"
  },
  "language_info": {
   "codemirror_mode": {
    "name": "ipython",
    "version": 3
   },
   "file_extension": ".py",
   "mimetype": "text/x-python",
   "name": "python",
   "nbconvert_exporter": "python",
   "pygments_lexer": "ipython3",
   "version": "3.8.10"
  }
 },
 "nbformat": 4,
 "nbformat_minor": 5
}
